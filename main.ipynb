{
 "cells": [
  {
   "cell_type": "code",
   "execution_count": 1,
   "metadata": {},
   "outputs": [],
   "source": [
    "import bioscience as bs\n",
    "import gc"
   ]
  },
  {
   "cell_type": "code",
   "execution_count": 2,
   "metadata": {},
   "outputs": [
    {
     "name": "stdout",
     "output_type": "stream",
     "text": [
      "Sparsity: 0.5833\n"
     ]
    }
   ],
   "source": [
    "import numpy as np\n",
    "\n",
    "def calculate_sparsity(array):\n",
    "    # Convert the input to a NumPy array if it's not already\n",
    "    array = np.asarray(array)\n",
    "    \n",
    "    # Get the total number of elements\n",
    "    total_elements = array.size\n",
    "    \n",
    "    # Count the number of non-zero elements\n",
    "    non_zero_elements = np.count_nonzero(array)\n",
    "    \n",
    "    # Calculate sparsity\n",
    "    sparsity = (total_elements - non_zero_elements) / total_elements\n",
    "    \n",
    "    return sparsity\n",
    "\n",
    "# Example usage\n",
    "array = np.array([[1, 0, 0, 2], [0, 4, 1, 0], [0, 0, 5, 0]])\n",
    "sparsity = calculate_sparsity(array)\n",
    "print(f\"Sparsity: {sparsity:.4f}\")"
   ]
  },
  {
   "cell_type": "code",
   "execution_count": 17,
   "metadata": {},
   "outputs": [],
   "source": [
    "from sklearn.datasets import make_biclusters\n",
    "import pandas as pd\n",
    "\n",
    "def add_random_missing(data, rate):\n",
    "    mask = np.random.rand(*data.shape) < rate\n",
    "    data[mask] = 0\n",
    "    return data\n",
    "\n",
    "data, rows, cols = make_biclusters(shape=(2000, 1200), n_clusters=3, random_state=42)\n",
    "\n",
    "# Change the 'rate' to add create more missing values, increasing the sparsity\n",
    "data = add_random_missing(data, 0.1)\n",
    "\n",
    "# Zet de numpy array die sklearn geeft om in een dataset van BioScience.\n",
    "lengths = None\n",
    "geneNames = None\n",
    "colNames = [str(i) for i in range(len(cols[0]))]\n",
    "\n",
    "dataset_GPU = bs.Dataset(data, geneNames=geneNames, columnsNames=colNames, lengths=lengths)\n",
    "dataset_CPU = bs.Dataset(data, geneNames=geneNames, columnsNames=colNames, lengths=lengths)\n",
    "\n",
    "dataset_GPU = bs.load(path='/home/derk/Documents/vrije_universiteit/GreenLab/data/human_liver_part_1.tsv', index_gene=0, naFilter=False, head=0)\n",
    "\n",
    "df = pd.DataFrame(dataset_GPU.data)\n",
    "df.to_csv('~/Documents/vrije_universiteit/GreenLab/low_spar.csv')\n",
    "# dataset_GPU.data = pd.read_csv('~/Documents/vrije_universiteit/GreenLab/low_spar.csv').values"
   ]
  },
  {
   "cell_type": "code",
   "execution_count": null,
   "metadata": {},
   "outputs": [],
   "source": [
    "# sparsity = calculate_sparsity(dataset_CPU.data)\n",
    "# print(f\"Sparsity: {sparsity:.4f}\")\n",
    "\n",
    "# RNA-Seq preprocessing\n",
    "bs.tpm(dataset_CPU)\n",
    "\n",
    "# # Binary preprocessing\n",
    "bs.binarize(dataset_CPU)\n",
    "\n",
    "# data2 = pd.read_csv('~/Documents/vrije_universiteit/GreenLab/low_spar2.csv').values[:,1:]\n",
    "# dataset_GPU2 = bs.Dataset(data2, geneNames=None, columnsNames=[str(i) for i in range(len(data2[0]))], lengths=None)\n",
    "\n",
    "# Data mining phase\n",
    "listModels = bs.bibit(dataset_CPU, cMnr=2, cMnc=2, mode=1, debug = True)\n",
    "\n",
    "del listModels\n",
    "del dataset_CPU\n",
    "# gc.collect()"
   ]
  },
  {
   "cell_type": "code",
   "execution_count": 18,
   "metadata": {},
   "outputs": [
    {
     "name": "stdout",
     "output_type": "stream",
     "text": [
      "Sparsity: 0.5910\n",
      "(8810, 903)\n"
     ]
    }
   ],
   "source": [
    "# Calculate sparsity\n",
    "# Use this value to reason about sparsity difference between datasets.\n",
    "sparsity = calculate_sparsity(dataset_GPU.data)\n",
    "print(f\"Sparsity: {sparsity:.4f}\")\n",
    "\n",
    "print(dataset_GPU.data.shape)\n",
    "\n",
    "# RNA-Seq preprocessing\n",
    "bs.tpm(dataset_GPU)\n",
    "\n",
    "# Binary preprocessing\n",
    "bs.binarize(dataset_GPU)\n",
    "\n",
    "df = pd.DataFrame(dataset_GPU.data)\n",
    "df.to_csv('~/Documents/vrije_universiteit/GreenLab/data/low_spar_cpm.csv')\n",
    "\n",
    "# data2 = pd.read_csv('~/Documents/vrije_universiteit/GreenLab/low_spar2.csv').values[:,1:]\n",
    "# dataset_GPU2 = bs.Dataset(data2, geneNames=None, columnsNames=[str(i) for i in range(len(data2[0]))], lengths=None)\n",
    "\n",
    "# Data mining phase\n",
    "listModels = bs.bibit(dataset_GPU, cMnr=2, cMnc=2, mode=3, deviceCount=1, debug = True)\n",
    "\n",
    "import pandas as pd\n",
    "\n",
    "# print(type(dataset_GPU.data))\n",
    "\n",
    "# df_cpu = pd.DataFrame(dataset_CPU)\n",
    "# df_gpu = pd.DataFrame(dataset_GPU.data)\n",
    "\n",
    "# df_gpu.to_csv('~/high_sparsity.csv')\n",
    "\n",
    "del listModels\n",
    "# del dataset_GPU\n",
    "gc.collect()"
   ]
  },
  {
   "cell_type": "code",
   "execution_count": null,
   "metadata": {},
   "outputs": [],
   "source": [
    "dataset_GPU = bs.load('human_liver_part_1.tsv', index_gene=0, naFilter=False, head=0)\n",
    "dataset_CPU = bs.load('human_liver_part_1.tsv', index_gene=0, naFilter=False, head=0)"
   ]
  },
  {
   "cell_type": "code",
   "execution_count": null,
   "metadata": {},
   "outputs": [],
   "source": []
  }
 ],
 "metadata": {
  "kernelspec": {
   "display_name": "venv",
   "language": "python",
   "name": "python3"
  },
  "language_info": {
   "codemirror_mode": {
    "name": "ipython",
    "version": 3
   },
   "file_extension": ".py",
   "mimetype": "text/x-python",
   "name": "python",
   "nbconvert_exporter": "python",
   "pygments_lexer": "ipython3",
   "version": "3.10.14"
  },
  "orig_nbformat": 4
 },
 "nbformat": 4,
 "nbformat_minor": 2
}
